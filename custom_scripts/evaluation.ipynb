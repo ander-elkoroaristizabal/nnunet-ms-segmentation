{
 "cells": [
  {
   "cell_type": "markdown",
   "source": [
    "# Evaluation and analysis"
   ],
   "metadata": {
    "collapsed": false
   }
  },
  {
   "cell_type": "markdown",
   "source": [
    "### Setting paths and environment variables:"
   ],
   "metadata": {
    "collapsed": false
   }
  },
  {
   "cell_type": "code",
   "execution_count": 1,
   "outputs": [],
   "source": [
    "import os\n",
    "\n",
    "os.chdir('..')"
   ],
   "metadata": {
    "collapsed": false,
    "ExecuteTime": {
     "start_time": "2023-04-23T15:08:46.249831Z",
     "end_time": "2023-04-23T15:08:46.250031Z"
    }
   }
  },
  {
   "cell_type": "markdown",
   "source": [
    "### Generic:"
   ],
   "metadata": {
    "collapsed": false
   }
  },
  {
   "cell_type": "code",
   "execution_count": 2,
   "metadata": {
    "collapsed": true,
    "ExecuteTime": {
     "start_time": "2023-04-23T15:08:46.249890Z",
     "end_time": "2023-04-23T15:08:46.250205Z"
    }
   },
   "outputs": [],
   "source": [
    "import os\n",
    "from pathlib import Path\n",
    "\n",
    "ROOT = Path(os.path.abspath(''))\n",
    "DATASET = \"Dataset100_MSSEG\"\n",
    "RAW_DATASET_DIR = ROOT / \"data\" / \"nnUNet_raw_data\" / DATASET\n",
    "TEST_IMAGES_DIR = RAW_DATASET_DIR / \"imagesTs\"\n",
    "TEST_LABELS_DIR = RAW_DATASET_DIR / \"labelsTs\"\n",
    "TERMINATION = \".nii.gz\"\n",
    "PREPROCESSED_DATASET_DIR = ROOT / \"data\" / \"nnUNet_preprocessed_data\" / DATASET"
   ]
  },
  {
   "cell_type": "code",
   "execution_count": 3,
   "outputs": [],
   "source": [
    "os.environ[\"nnUNet_raw\"] = \"./data/nnUNet_raw_data\"\n",
    "os.environ[\"nnUNet_preprocessed\"] = \"./data/nnUNet_preprocessed_data\"\n",
    "os.environ['nnUNet_results'] = \"./nnUNet_results\""
   ],
   "metadata": {
    "collapsed": false,
    "ExecuteTime": {
     "start_time": "2023-04-23T15:08:46.249921Z",
     "end_time": "2023-04-23T15:08:46.250253Z"
    }
   }
  },
  {
   "cell_type": "markdown",
   "source": [
    "### Specific:"
   ],
   "metadata": {
    "collapsed": false
   }
  },
  {
   "cell_type": "code",
   "execution_count": 4,
   "outputs": [],
   "source": [
    "DATASET = \"Dataset100_MSSEG\"\n",
    "TRAINER = \"nnUNetTrainerEarlyStopping\"\n",
    "CONFIGURATION = \"3d_fullres\"\n",
    "PLAN = 'nnUNetPlans'\n"
   ],
   "metadata": {
    "collapsed": false,
    "ExecuteTime": {
     "start_time": "2023-04-23T15:08:46.249947Z",
     "end_time": "2023-04-23T15:08:46.250288Z"
    }
   }
  },
  {
   "cell_type": "code",
   "execution_count": 5,
   "outputs": [],
   "source": [
    "ALL_TEST_PREDICTIONS_FOLDER = os.path.join(ROOT, 'nnUNet_test_results')\n",
    "specific_folder_name = TRAINER + '__' + PLAN + \"__\" + CONFIGURATION\n",
    "TEST_PREDICTIONS_FOLDER = os.path.join(ALL_TEST_PREDICTIONS_FOLDER, DATASET, specific_folder_name)"
   ],
   "metadata": {
    "collapsed": false,
    "ExecuteTime": {
     "start_time": "2023-04-23T15:08:46.249974Z",
     "end_time": "2023-04-23T15:08:46.252334Z"
    }
   }
  },
  {
   "cell_type": "code",
   "execution_count": 6,
   "outputs": [],
   "source": [
    "for var in [\"DATASET\", \"TRAINER\", \"CONFIGURATION\", \"PLAN\", \"TEST_IMAGES_DIR\", \"TEST_PREDICTIONS_FOLDER\"]:\n",
    "    os.environ[f'nnUNet_{var}'] = str(eval(var))"
   ],
   "metadata": {
    "collapsed": false,
    "ExecuteTime": {
     "start_time": "2023-04-23T15:08:46.252674Z",
     "end_time": "2023-04-23T15:08:46.257614Z"
    }
   }
  },
  {
   "cell_type": "markdown",
   "source": [
    "## Performing the prediction"
   ],
   "metadata": {
    "collapsed": false
   }
  },
  {
   "cell_type": "code",
   "execution_count": 7,
   "outputs": [],
   "source": [
    "# !nnUNetv2_predict -d $nnUNet_DATASET -i $nnUNet_TEST_IMAGES_DIR -o $nnUNet_TEST_PREDICTIONS_FOLDER -f  0 1 2 3 4 -tr $nnUNet_TRAINER -c nnUNet_CONFIGURATION -p $nnUNet_PLAN"
   ],
   "metadata": {
    "collapsed": false,
    "ExecuteTime": {
     "start_time": "2023-04-23T15:08:46.258188Z",
     "end_time": "2023-04-23T15:08:46.263451Z"
    }
   }
  },
  {
   "cell_type": "markdown",
   "source": [
    "## Computing results on the folder"
   ],
   "metadata": {
    "collapsed": false
   }
  },
  {
   "cell_type": "code",
   "execution_count": 8,
   "outputs": [],
   "source": [
    "from nnunetv2.evaluation.evaluate_predictions import compute_metrics_on_folder_simple, load_summary_json\n",
    "\n",
    "compute_metrics_on_folder_simple(\n",
    "    folder_ref=TEST_LABELS_DIR,\n",
    "    folder_pred=TEST_PREDICTIONS_FOLDER,\n",
    "    labels=[1, 2]\n",
    ")\n",
    "\n",
    "all_results = load_summary_json(filename=os.path.join(TEST_PREDICTIONS_FOLDER, 'summary.json'))"
   ],
   "metadata": {
    "collapsed": false,
    "ExecuteTime": {
     "start_time": "2023-04-23T15:08:46.264362Z",
     "end_time": "2023-04-23T15:08:49.202233Z"
    }
   }
  },
  {
   "cell_type": "code",
   "execution_count": 9,
   "outputs": [
    {
     "data": {
      "text/plain": "{'foreground_mean': {'Dice': 0.5976925236957565,\n  'FN': 1569.25,\n  'FP': 1226.0416666666667,\n  'IoU': 0.47306652785763714,\n  'TN': 7212432.027777778,\n  'TP': 5804.680555555556,\n  'n_pred': 7030.722222222223,\n  'n_ref': 7373.930555555556},\n 'mean': {1: {'Dice': 0.720540349815377,\n   'FN': 3117.1666666666665,\n   'FP': 2441.5833333333335,\n   'IoU': 0.5747683321697162,\n   'TN': 7203896.333333333,\n   'TP': 11576.916666666666,\n   'n_pred': 14018.5,\n   'n_ref': 14694.083333333334},\n  2: {'Dice': 0.4748446975761361,\n   'FN': 21.333333333333332,\n   'FP': 10.5,\n   'IoU': 0.3713647235455581,\n   'TN': 7220967.722222222,\n   'TP': 32.44444444444444,\n   'n_pred': 42.94444444444444,\n   'n_ref': 53.77777777777778}},\n 'metric_per_case': [{'metrics': {1: {'Dice': 0.8128637148620604,\n     'FN': 3786,\n     'FP': 9109,\n     'IoU': 0.6847265348035501,\n     'TN': 7180131,\n     'TP': 28006,\n     'n_pred': 37115,\n     'n_ref': 31792},\n    2: {'Dice': 0.78099173553719,\n     'FN': 65,\n     'FP': 41,\n     'IoU': 0.6406779661016949,\n     'TN': 7220737,\n     'TP': 189,\n     'n_pred': 230,\n     'n_ref': 254}},\n   'prediction_file': '/home/ander/PycharmProjects/nnunet-ms-segmentation/nnUNet_test_results/Dataset100_MSSEG/nnUNetTrainerEarlyStopping__nnUNetPlans__3d_fullres/FIS_004_01.nii.gz',\n   'reference_file': '/home/ander/PycharmProjects/nnunet-ms-segmentation/data/nnUNet_raw_data/Dataset100_MSSEG/labelsTs/FIS_004_01.nii.gz'},\n  {'metrics': {1: {'Dice': 0.7072004780400358,\n     'FN': 2764,\n     'FP': 1156,\n     'IoU': 0.547030275017333,\n     'TN': 7212378,\n     'TP': 4734,\n     'n_pred': 5890,\n     'n_ref': 7498},\n    2: {'Dice': 0.0,\n     'FN': 0,\n     'FP': 1,\n     'IoU': 0.0,\n     'TN': 7221031,\n     'TP': 0,\n     'n_pred': 1,\n     'n_ref': 0}},\n   'prediction_file': '/home/ander/PycharmProjects/nnunet-ms-segmentation/nnUNet_test_results/Dataset100_MSSEG/nnUNetTrainerEarlyStopping__nnUNetPlans__3d_fullres/FIS_006_01.nii.gz',\n   'reference_file': '/home/ander/PycharmProjects/nnunet-ms-segmentation/data/nnUNet_raw_data/Dataset100_MSSEG/labelsTs/FIS_006_01.nii.gz'},\n  {'metrics': {1: {'Dice': 0.8396201228117014,\n     'FN': 12913,\n     'FP': 3907,\n     'IoU': 0.7235734946095188,\n     'TN': 7160184,\n     'TP': 44028,\n     'n_pred': 47935,\n     'n_ref': 56941},\n    2: {'Dice': 0.0,\n     'FN': 0,\n     'FP': 23,\n     'IoU': 0.0,\n     'TN': 7221009,\n     'TP': 0,\n     'n_pred': 23,\n     'n_ref': 0}},\n   'prediction_file': '/home/ander/PycharmProjects/nnunet-ms-segmentation/nnUNet_test_results/Dataset100_MSSEG/nnUNetTrainerEarlyStopping__nnUNetPlans__3d_fullres/FIS_012_01.nii.gz',\n   'reference_file': '/home/ander/PycharmProjects/nnunet-ms-segmentation/data/nnUNet_raw_data/Dataset100_MSSEG/labelsTs/FIS_012_01.nii.gz'},\n  {'metrics': {1: {'Dice': 0.6350637239664283,\n     'FN': 1322,\n     'FP': 1026,\n     'IoU': 0.465269870189023,\n     'TN': 7216641,\n     'TP': 2043,\n     'n_pred': 3069,\n     'n_ref': 3365},\n    2: {'Dice': 0.2564102564102564,\n     'FN': 139,\n     'FP': 35,\n     'IoU': 0.14705882352941177,\n     'TN': 7220828,\n     'TP': 30,\n     'n_pred': 65,\n     'n_ref': 169}},\n   'prediction_file': '/home/ander/PycharmProjects/nnunet-ms-segmentation/nnUNet_test_results/Dataset100_MSSEG/nnUNetTrainerEarlyStopping__nnUNetPlans__3d_fullres/FIS_019_01.nii.gz',\n   'reference_file': '/home/ander/PycharmProjects/nnunet-ms-segmentation/data/nnUNet_raw_data/Dataset100_MSSEG/labelsTs/FIS_019_01.nii.gz'},\n  {'metrics': {1: {'Dice': 0.5570563577084303,\n     'FN': 549,\n     'FP': 402,\n     'IoU': 0.38605551969012264,\n     'TN': 7219483,\n     'TP': 598,\n     'n_pred': 1000,\n     'n_ref': 1147},\n    2: {'Dice': 0.6794871794871795,\n     'FN': 34,\n     'FP': 16,\n     'IoU': 0.5145631067961165,\n     'TN': 7220929,\n     'TP': 53,\n     'n_pred': 69,\n     'n_ref': 87}},\n   'prediction_file': '/home/ander/PycharmProjects/nnunet-ms-segmentation/nnUNet_test_results/Dataset100_MSSEG/nnUNetTrainerEarlyStopping__nnUNetPlans__3d_fullres/FIS_020_01.nii.gz',\n   'reference_file': '/home/ander/PycharmProjects/nnunet-ms-segmentation/data/nnUNet_raw_data/Dataset100_MSSEG/labelsTs/FIS_020_01.nii.gz'},\n  {'metrics': {1: {'Dice': 0.8820094634048122,\n     'FN': 3397,\n     'FP': 3635,\n     'IoU': 0.7889239081494822,\n     'TN': 7187717,\n     'TP': 26283,\n     'n_pred': 29918,\n     'n_ref': 29680},\n    2: {'Dice': nan,\n     'FN': 0,\n     'FP': 0,\n     'IoU': nan,\n     'TN': 7221032,\n     'TP': 0,\n     'n_pred': 0,\n     'n_ref': 0}},\n   'prediction_file': '/home/ander/PycharmProjects/nnunet-ms-segmentation/nnUNet_test_results/Dataset100_MSSEG/nnUNetTrainerEarlyStopping__nnUNetPlans__3d_fullres/FIS_024_01.nii.gz',\n   'reference_file': '/home/ander/PycharmProjects/nnunet-ms-segmentation/data/nnUNet_raw_data/Dataset100_MSSEG/labelsTs/FIS_024_01.nii.gz'},\n  {'metrics': {1: {'Dice': 0.7956063865926849,\n     'FN': 1443,\n     'FP': 2167,\n     'IoU': 0.6605866867243324,\n     'TN': 7210396,\n     'TP': 7026,\n     'n_pred': 9193,\n     'n_ref': 8469},\n    2: {'Dice': 0.0,\n     'FN': 0,\n     'FP': 3,\n     'IoU': 0.0,\n     'TN': 7221029,\n     'TP': 0,\n     'n_pred': 3,\n     'n_ref': 0}},\n   'prediction_file': '/home/ander/PycharmProjects/nnunet-ms-segmentation/nnUNet_test_results/Dataset100_MSSEG/nnUNetTrainerEarlyStopping__nnUNetPlans__3d_fullres/FIS_028_01.nii.gz',\n   'reference_file': '/home/ander/PycharmProjects/nnunet-ms-segmentation/data/nnUNet_raw_data/Dataset100_MSSEG/labelsTs/FIS_028_01.nii.gz'},\n  {'metrics': {1: {'Dice': 0.8272707738588575,\n     'FN': 10442,\n     'FP': 6439,\n     'IoU': 0.7054235158622134,\n     'TN': 7163726,\n     'TP': 40425,\n     'n_pred': 46864,\n     'n_ref': 50867},\n    2: {'Dice': 0.4063745019920319,\n     'FN': 116,\n     'FP': 33,\n     'IoU': 0.255,\n     'TN': 7220832,\n     'TP': 51,\n     'n_pred': 84,\n     'n_ref': 167}},\n   'prediction_file': '/home/ander/PycharmProjects/nnunet-ms-segmentation/nnUNet_test_results/Dataset100_MSSEG/nnUNetTrainerEarlyStopping__nnUNetPlans__3d_fullres/FIS_039_01.nii.gz',\n   'reference_file': '/home/ander/PycharmProjects/nnunet-ms-segmentation/data/nnUNet_raw_data/Dataset100_MSSEG/labelsTs/FIS_039_01.nii.gz'},\n  {'metrics': {1: {'Dice': 0.7925264266489839,\n     'FN': 5533,\n     'FP': 5105,\n     'IoU': 0.6563509497351079,\n     'TN': 7190076,\n     'TP': 20318,\n     'n_pred': 25423,\n     'n_ref': 25851},\n    2: {'Dice': 0.8491978609625669,\n     'FN': 73,\n     'FP': 68,\n     'IoU': 0.7379182156133829,\n     'TN': 7220494,\n     'TP': 397,\n     'n_pred': 465,\n     'n_ref': 470}},\n   'prediction_file': '/home/ander/PycharmProjects/nnunet-ms-segmentation/nnUNet_test_results/Dataset100_MSSEG/nnUNetTrainerEarlyStopping__nnUNetPlans__3d_fullres/FIS_041_01.nii.gz',\n   'reference_file': '/home/ander/PycharmProjects/nnunet-ms-segmentation/data/nnUNet_raw_data/Dataset100_MSSEG/labelsTs/FIS_041_01.nii.gz'},\n  {'metrics': {1: {'Dice': 0.7446626814688301,\n     'FN': 4158,\n     'FP': 2719,\n     'IoU': 0.5931972789115646,\n     'TN': 7204127,\n     'TP': 10028,\n     'n_pred': 12747,\n     'n_ref': 14186},\n    2: {'Dice': nan,\n     'FN': 0,\n     'FP': 0,\n     'IoU': nan,\n     'TN': 7221032,\n     'TP': 0,\n     'n_pred': 0,\n     'n_ref': 0}},\n   'prediction_file': '/home/ander/PycharmProjects/nnunet-ms-segmentation/nnUNet_test_results/Dataset100_MSSEG/nnUNetTrainerEarlyStopping__nnUNetPlans__3d_fullres/FIS_042_01.nii.gz',\n   'reference_file': '/home/ander/PycharmProjects/nnunet-ms-segmentation/data/nnUNet_raw_data/Dataset100_MSSEG/labelsTs/FIS_042_01.nii.gz'},\n  {'metrics': {1: {'Dice': 0.8071156016552911,\n     'FN': 5113,\n     'FP': 12832,\n     'IoU': 0.6766083979095332,\n     'TN': 7165542,\n     'TP': 37545,\n     'n_pred': 50377,\n     'n_ref': 42658},\n    2: {'Dice': 0.7002652519893899,\n     'FN': 71,\n     'FP': 42,\n     'IoU': 0.5387755102040817,\n     'TN': 7220787,\n     'TP': 132,\n     'n_pred': 174,\n     'n_ref': 203}},\n   'prediction_file': '/home/ander/PycharmProjects/nnunet-ms-segmentation/nnUNet_test_results/Dataset100_MSSEG/nnUNetTrainerEarlyStopping__nnUNetPlans__3d_fullres/FIS_061_01.nii.gz',\n   'reference_file': '/home/ander/PycharmProjects/nnunet-ms-segmentation/data/nnUNet_raw_data/Dataset100_MSSEG/labelsTs/FIS_061_01.nii.gz'},\n  {'metrics': {1: {'Dice': 0.7795548012272342,\n     'FN': 4514,\n     'FP': 2240,\n     'IoU': 0.6387462558836114,\n     'TN': 7202336,\n     'TP': 11942,\n     'n_pred': 14182,\n     'n_ref': 16456},\n    2: {'Dice': 0.13636363636363635,\n     'FN': 31,\n     'FP': 83,\n     'IoU': 0.07317073170731707,\n     'TN': 7220909,\n     'TP': 9,\n     'n_pred': 92,\n     'n_ref': 40}},\n   'prediction_file': '/home/ander/PycharmProjects/nnunet-ms-segmentation/nnUNet_test_results/Dataset100_MSSEG/nnUNetTrainerEarlyStopping__nnUNetPlans__3d_fullres/FIS_066_01.nii.gz',\n   'reference_file': '/home/ander/PycharmProjects/nnunet-ms-segmentation/data/nnUNet_raw_data/Dataset100_MSSEG/labelsTs/FIS_066_01.nii.gz'},\n  {'metrics': {1: {'Dice': 0.48180677540777916,\n     'FN': 292,\n     'FP': 121,\n     'IoU': 0.31735537190082647,\n     'TN': 7220427,\n     'TP': 192,\n     'n_pred': 313,\n     'n_ref': 484},\n    2: {'Dice': 0.7530864197530864,\n     'FN': 35,\n     'FP': 5,\n     'IoU': 0.6039603960396039,\n     'TN': 7220931,\n     'TP': 61,\n     'n_pred': 66,\n     'n_ref': 96}},\n   'prediction_file': '/home/ander/PycharmProjects/nnunet-ms-segmentation/nnUNet_test_results/Dataset100_MSSEG/nnUNetTrainerEarlyStopping__nnUNetPlans__3d_fullres/FIS_075_01.nii.gz',\n   'reference_file': '/home/ander/PycharmProjects/nnunet-ms-segmentation/data/nnUNet_raw_data/Dataset100_MSSEG/labelsTs/FIS_075_01.nii.gz'},\n  {'metrics': {1: {'Dice': 0.7933821862959886,\n     'FN': 2114,\n     'FP': 3356,\n     'IoU': 0.6575256699223642,\n     'TN': 7205060,\n     'TP': 10502,\n     'n_pred': 13858,\n     'n_ref': 12616},\n    2: {'Dice': 0.9393939393939394,\n     'FN': 2,\n     'FP': 2,\n     'IoU': 0.8857142857142857,\n     'TN': 7220997,\n     'TP': 31,\n     'n_pred': 33,\n     'n_ref': 33}},\n   'prediction_file': '/home/ander/PycharmProjects/nnunet-ms-segmentation/nnUNet_test_results/Dataset100_MSSEG/nnUNetTrainerEarlyStopping__nnUNetPlans__3d_fullres/FIS_082_01.nii.gz',\n   'reference_file': '/home/ander/PycharmProjects/nnunet-ms-segmentation/data/nnUNet_raw_data/Dataset100_MSSEG/labelsTs/FIS_082_01.nii.gz'},\n  {'metrics': {1: {'Dice': 0.7567221510883483,\n     'FN': 1106,\n     'FP': 794,\n     'IoU': 0.6086508753861998,\n     'TN': 7216177,\n     'TP': 2955,\n     'n_pred': 3749,\n     'n_ref': 4061},\n    2: {'Dice': nan,\n     'FN': 0,\n     'FP': 0,\n     'IoU': nan,\n     'TN': 7221032,\n     'TP': 0,\n     'n_pred': 0,\n     'n_ref': 0}},\n   'prediction_file': '/home/ander/PycharmProjects/nnunet-ms-segmentation/nnUNet_test_results/Dataset100_MSSEG/nnUNetTrainerEarlyStopping__nnUNetPlans__3d_fullres/FIS_086_01.nii.gz',\n   'reference_file': '/home/ander/PycharmProjects/nnunet-ms-segmentation/data/nnUNet_raw_data/Dataset100_MSSEG/labelsTs/FIS_086_01.nii.gz'},\n  {'metrics': {1: {'Dice': 0.7072833801743438,\n     'FN': 3374,\n     'FP': 2771,\n     'IoU': 0.5471294863291326,\n     'TN': 7207463,\n     'TP': 7424,\n     'n_pred': 10195,\n     'n_ref': 10798},\n    2: {'Dice': nan,\n     'FN': 0,\n     'FP': 0,\n     'IoU': nan,\n     'TN': 7221032,\n     'TP': 0,\n     'n_pred': 0,\n     'n_ref': 0}},\n   'prediction_file': '/home/ander/PycharmProjects/nnunet-ms-segmentation/nnUNet_test_results/Dataset100_MSSEG/nnUNetTrainerEarlyStopping__nnUNetPlans__3d_fullres/FIS_090_01.nii.gz',\n   'reference_file': '/home/ander/PycharmProjects/nnunet-ms-segmentation/data/nnUNet_raw_data/Dataset100_MSSEG/labelsTs/FIS_090_01.nii.gz'},\n  {'metrics': {1: {'Dice': 0.6134204275534442,\n     'FN': 910,\n     'FP': 392,\n     'IoU': 0.4423982869379015,\n     'TN': 7218697,\n     'TP': 1033,\n     'n_pred': 1425,\n     'n_ref': 1943},\n    2: {'Dice': 0.6214689265536724,\n     'FN': 67,\n     'FP': 0,\n     'IoU': 0.45081967213114754,\n     'TN': 7220910,\n     'TP': 55,\n     'n_pred': 55,\n     'n_ref': 122}},\n   'prediction_file': '/home/ander/PycharmProjects/nnunet-ms-segmentation/nnUNet_test_results/Dataset100_MSSEG/nnUNetTrainerEarlyStopping__nnUNetPlans__3d_fullres/FIS_093_01.nii.gz',\n   'reference_file': '/home/ander/PycharmProjects/nnunet-ms-segmentation/data/nnUNet_raw_data/Dataset100_MSSEG/labelsTs/FIS_093_01.nii.gz'},\n  {'metrics': {1: {'Dice': 0.7444362017804155,\n     'FN': 2546,\n     'FP': 2966,\n     'IoU': 0.5929098966026588,\n     'TN': 7207492,\n     'TP': 8028,\n     'n_pred': 10994,\n     'n_ref': 10574},\n    2: {'Dice': 0.0,\n     'FN': 0,\n     'FP': 13,\n     'IoU': 0.0,\n     'TN': 7221019,\n     'TP': 0,\n     'n_pred': 13,\n     'n_ref': 0}},\n   'prediction_file': '/home/ander/PycharmProjects/nnunet-ms-segmentation/nnUNet_test_results/Dataset100_MSSEG/nnUNetTrainerEarlyStopping__nnUNetPlans__3d_fullres/FIS_097_01.nii.gz',\n   'reference_file': '/home/ander/PycharmProjects/nnunet-ms-segmentation/data/nnUNet_raw_data/Dataset100_MSSEG/labelsTs/FIS_097_01.nii.gz'},\n  {'metrics': {1: {'Dice': 0.8201511335012595,\n     'FN': 1485,\n     'FP': 2085,\n     'IoU': 0.695132365499573,\n     'TN': 7209322,\n     'TP': 8140,\n     'n_pred': 10225,\n     'n_ref': 9625},\n    2: {'Dice': nan,\n     'FN': 0,\n     'FP': 0,\n     'IoU': nan,\n     'TN': 7221032,\n     'TP': 0,\n     'n_pred': 0,\n     'n_ref': 0}},\n   'prediction_file': '/home/ander/PycharmProjects/nnunet-ms-segmentation/nnUNet_test_results/Dataset100_MSSEG/nnUNetTrainerEarlyStopping__nnUNetPlans__3d_fullres/FIS_099_01.nii.gz',\n   'reference_file': '/home/ander/PycharmProjects/nnunet-ms-segmentation/data/nnUNet_raw_data/Dataset100_MSSEG/labelsTs/FIS_099_01.nii.gz'},\n  {'metrics': {1: {'Dice': 0.6037251123956326,\n     'FN': 881,\n     'FP': 353,\n     'IoU': 0.43238270469181234,\n     'TN': 7218858,\n     'TP': 940,\n     'n_pred': 1293,\n     'n_ref': 1821},\n    2: {'Dice': nan,\n     'FN': 0,\n     'FP': 0,\n     'IoU': nan,\n     'TN': 7221032,\n     'TP': 0,\n     'n_pred': 0,\n     'n_ref': 0}},\n   'prediction_file': '/home/ander/PycharmProjects/nnunet-ms-segmentation/nnUNet_test_results/Dataset100_MSSEG/nnUNetTrainerEarlyStopping__nnUNetPlans__3d_fullres/FIS_107_01.nii.gz',\n   'reference_file': '/home/ander/PycharmProjects/nnunet-ms-segmentation/data/nnUNet_raw_data/Dataset100_MSSEG/labelsTs/FIS_107_01.nii.gz'},\n  {'metrics': {1: {'Dice': 0.7285550895920702,\n     'FN': 879,\n     'FP': 545,\n     'IoU': 0.5730134932533734,\n     'TN': 7217697,\n     'TP': 1911,\n     'n_pred': 2456,\n     'n_ref': 2790},\n    2: {'Dice': 0.56,\n     'FN': 11,\n     'FP': 0,\n     'IoU': 0.3888888888888889,\n     'TN': 7221014,\n     'TP': 7,\n     'n_pred': 7,\n     'n_ref': 18}},\n   'prediction_file': '/home/ander/PycharmProjects/nnunet-ms-segmentation/nnUNet_test_results/Dataset100_MSSEG/nnUNetTrainerEarlyStopping__nnUNetPlans__3d_fullres/FIS_119_01.nii.gz',\n   'reference_file': '/home/ander/PycharmProjects/nnunet-ms-segmentation/data/nnUNet_raw_data/Dataset100_MSSEG/labelsTs/FIS_119_01.nii.gz'},\n  {'metrics': {1: {'Dice': 0.7762123197903015,\n     'FN': 2682,\n     'FP': 1416,\n     'IoU': 0.6342704149933066,\n     'TN': 7209827,\n     'TP': 7107,\n     'n_pred': 8523,\n     'n_ref': 9789},\n    2: {'Dice': 0.6120689655172413,\n     'FN': 81,\n     'FP': 9,\n     'IoU': 0.4409937888198758,\n     'TN': 7220871,\n     'TP': 71,\n     'n_pred': 80,\n     'n_ref': 152}},\n   'prediction_file': '/home/ander/PycharmProjects/nnunet-ms-segmentation/nnUNet_test_results/Dataset100_MSSEG/nnUNetTrainerEarlyStopping__nnUNetPlans__3d_fullres/FIS_127_01.nii.gz',\n   'reference_file': '/home/ander/PycharmProjects/nnunet-ms-segmentation/data/nnUNet_raw_data/Dataset100_MSSEG/labelsTs/FIS_127_01.nii.gz'},\n  {'metrics': {1: {'Dice': 0.6771362586605081,\n     'FN': 798,\n     'FP': 600,\n     'IoU': 0.5118715083798883,\n     'TN': 7218168,\n     'TP': 1466,\n     'n_pred': 2066,\n     'n_ref': 2264},\n    2: {'Dice': nan,\n     'FN': 0,\n     'FP': 0,\n     'IoU': nan,\n     'TN': 7221032,\n     'TP': 0,\n     'n_pred': 0,\n     'n_ref': 0}},\n   'prediction_file': '/home/ander/PycharmProjects/nnunet-ms-segmentation/nnUNet_test_results/Dataset100_MSSEG/nnUNetTrainerEarlyStopping__nnUNetPlans__3d_fullres/REHEM_101_01.nii.gz',\n   'reference_file': '/home/ander/PycharmProjects/nnunet-ms-segmentation/data/nnUNet_raw_data/Dataset100_MSSEG/labelsTs/REHEM_101_01.nii.gz'},\n  {'metrics': {1: {'Dice': 0.5908119658119658,\n     'FN': 1511,\n     'FP': 787,\n     'IoU': 0.41925701288855194,\n     'TN': 7217075,\n     'TP': 1659,\n     'n_pred': 2446,\n     'n_ref': 3170},\n    2: {'Dice': nan,\n     'FN': 0,\n     'FP': 0,\n     'IoU': nan,\n     'TN': 7221032,\n     'TP': 0,\n     'n_pred': 0,\n     'n_ref': 0}},\n   'prediction_file': '/home/ander/PycharmProjects/nnunet-ms-segmentation/nnUNet_test_results/Dataset100_MSSEG/nnUNetTrainerEarlyStopping__nnUNetPlans__3d_fullres/REHEM_107_01.nii.gz',\n   'reference_file': '/home/ander/PycharmProjects/nnunet-ms-segmentation/data/nnUNet_raw_data/Dataset100_MSSEG/labelsTs/REHEM_107_01.nii.gz'},\n  {'metrics': {1: {'Dice': 0.8745792159843632,\n     'FN': 9029,\n     'FP': 2521,\n     'IoU': 0.7771130837514473,\n     'TN': 7169212,\n     'TP': 40270,\n     'n_pred': 42791,\n     'n_ref': 49299},\n    2: {'Dice': nan,\n     'FN': 0,\n     'FP': 0,\n     'IoU': nan,\n     'TN': 7221032,\n     'TP': 0,\n     'n_pred': 0,\n     'n_ref': 0}},\n   'prediction_file': '/home/ander/PycharmProjects/nnunet-ms-segmentation/nnUNet_test_results/Dataset100_MSSEG/nnUNetTrainerEarlyStopping__nnUNetPlans__3d_fullres/REHEM_117_01.nii.gz',\n   'reference_file': '/home/ander/PycharmProjects/nnunet-ms-segmentation/data/nnUNet_raw_data/Dataset100_MSSEG/labelsTs/REHEM_117_01.nii.gz'},\n  {'metrics': {1: {'Dice': 0.861775385000626,\n     'FN': 7429,\n     'FP': 1403,\n     'IoU': 0.7571224287757122,\n     'TN': 7184668,\n     'TP': 27532,\n     'n_pred': 28935,\n     'n_ref': 34961},\n    2: {'Dice': nan,\n     'FN': 0,\n     'FP': 0,\n     'IoU': nan,\n     'TN': 7221032,\n     'TP': 0,\n     'n_pred': 0,\n     'n_ref': 0}},\n   'prediction_file': '/home/ander/PycharmProjects/nnunet-ms-segmentation/nnUNet_test_results/Dataset100_MSSEG/nnUNetTrainerEarlyStopping__nnUNetPlans__3d_fullres/REHEM_12_01.nii.gz',\n   'reference_file': '/home/ander/PycharmProjects/nnunet-ms-segmentation/data/nnUNet_raw_data/Dataset100_MSSEG/labelsTs/REHEM_12_01.nii.gz'},\n  {'metrics': {1: {'Dice': 0.5342862004424026,\n     'FN': 1000,\n     'FP': 1737,\n     'IoU': 0.3645228697469236,\n     'TN': 7216725,\n     'TP': 1570,\n     'n_pred': 3307,\n     'n_ref': 2570},\n    2: {'Dice': nan,\n     'FN': 0,\n     'FP': 0,\n     'IoU': nan,\n     'TN': 7221032,\n     'TP': 0,\n     'n_pred': 0,\n     'n_ref': 0}},\n   'prediction_file': '/home/ander/PycharmProjects/nnunet-ms-segmentation/nnUNet_test_results/Dataset100_MSSEG/nnUNetTrainerEarlyStopping__nnUNetPlans__3d_fullres/REHEM_42_01.nii.gz',\n   'reference_file': '/home/ander/PycharmProjects/nnunet-ms-segmentation/data/nnUNet_raw_data/Dataset100_MSSEG/labelsTs/REHEM_42_01.nii.gz'},\n  {'metrics': {1: {'Dice': 0.6015293118096856,\n     'FN': 675,\n     'FP': 732,\n     'IoU': 0.43013365735115433,\n     'TN': 7218563,\n     'TP': 1062,\n     'n_pred': 1794,\n     'n_ref': 1737},\n    2: {'Dice': 0.7772511848341233,\n     'FN': 43,\n     'FP': 4,\n     'IoU': 0.6356589147286822,\n     'TN': 7220903,\n     'TP': 82,\n     'n_pred': 86,\n     'n_ref': 125}},\n   'prediction_file': '/home/ander/PycharmProjects/nnunet-ms-segmentation/nnUNet_test_results/Dataset100_MSSEG/nnUNetTrainerEarlyStopping__nnUNetPlans__3d_fullres/REHEM_46_01.nii.gz',\n   'reference_file': '/home/ander/PycharmProjects/nnunet-ms-segmentation/data/nnUNet_raw_data/Dataset100_MSSEG/labelsTs/REHEM_46_01.nii.gz'},\n  {'metrics': {1: {'Dice': 0.855810431073998,\n     'FN': 4778,\n     'FP': 2457,\n     'IoU': 0.7479620985159897,\n     'TN': 7192326,\n     'TP': 21471,\n     'n_pred': 23928,\n     'n_ref': 26249},\n    2: {'Dice': nan,\n     'FN': 0,\n     'FP': 0,\n     'IoU': nan,\n     'TN': 7221032,\n     'TP': 0,\n     'n_pred': 0,\n     'n_ref': 0}},\n   'prediction_file': '/home/ander/PycharmProjects/nnunet-ms-segmentation/nnUNet_test_results/Dataset100_MSSEG/nnUNetTrainerEarlyStopping__nnUNetPlans__3d_fullres/REHEM_67_01.nii.gz',\n   'reference_file': '/home/ander/PycharmProjects/nnunet-ms-segmentation/data/nnUNet_raw_data/Dataset100_MSSEG/labelsTs/REHEM_67_01.nii.gz'},\n  {'metrics': {1: {'Dice': 0.6028929604628737,\n     'FN': 1345,\n     'FP': 714,\n     'IoU': 0.4315295416896742,\n     'TN': 7217410,\n     'TP': 1563,\n     'n_pred': 2277,\n     'n_ref': 2908},\n    2: {'Dice': nan,\n     'FN': 0,\n     'FP': 0,\n     'IoU': nan,\n     'TN': 7221032,\n     'TP': 0,\n     'n_pred': 0,\n     'n_ref': 0}},\n   'prediction_file': '/home/ander/PycharmProjects/nnunet-ms-segmentation/nnUNet_test_results/Dataset100_MSSEG/nnUNetTrainerEarlyStopping__nnUNetPlans__3d_fullres/REHEM_74_01.nii.gz',\n   'reference_file': '/home/ander/PycharmProjects/nnunet-ms-segmentation/data/nnUNet_raw_data/Dataset100_MSSEG/labelsTs/REHEM_74_01.nii.gz'},\n  {'metrics': {1: {'Dice': 0.6858316221765913,\n     'FN': 373,\n     'FP': 392,\n     'IoU': 0.521875,\n     'TN': 7219432,\n     'TP': 835,\n     'n_pred': 1227,\n     'n_ref': 1208},\n    2: {'Dice': nan,\n     'FN': 0,\n     'FP': 0,\n     'IoU': nan,\n     'TN': 7221032,\n     'TP': 0,\n     'n_pred': 0,\n     'n_ref': 0}},\n   'prediction_file': '/home/ander/PycharmProjects/nnunet-ms-segmentation/nnUNet_test_results/Dataset100_MSSEG/nnUNetTrainerEarlyStopping__nnUNetPlans__3d_fullres/REHEM_79_01.nii.gz',\n   'reference_file': '/home/ander/PycharmProjects/nnunet-ms-segmentation/data/nnUNet_raw_data/Dataset100_MSSEG/labelsTs/REHEM_79_01.nii.gz'},\n  {'metrics': {1: {'Dice': 0.5465587044534413,\n     'FN': 2827,\n     'FP': 3445,\n     'IoU': 0.37604456824512533,\n     'TN': 7210980,\n     'TP': 3780,\n     'n_pred': 7225,\n     'n_ref': 6607},\n    2: {'Dice': nan,\n     'FN': 0,\n     'FP': 0,\n     'IoU': nan,\n     'TN': 7221032,\n     'TP': 0,\n     'n_pred': 0,\n     'n_ref': 0}},\n   'prediction_file': '/home/ander/PycharmProjects/nnunet-ms-segmentation/nnUNet_test_results/Dataset100_MSSEG/nnUNetTrainerEarlyStopping__nnUNetPlans__3d_fullres/REHEM_81_01.nii.gz',\n   'reference_file': '/home/ander/PycharmProjects/nnunet-ms-segmentation/data/nnUNet_raw_data/Dataset100_MSSEG/labelsTs/REHEM_81_01.nii.gz'},\n  {'metrics': {1: {'Dice': 0.7305118382794111,\n     'FN': 3959,\n     'FP': 1880,\n     'IoU': 0.5754380862357303,\n     'TN': 7207279,\n     'TP': 7914,\n     'n_pred': 9794,\n     'n_ref': 11873},\n    2: {'Dice': nan,\n     'FN': 0,\n     'FP': 0,\n     'IoU': nan,\n     'TN': 7221032,\n     'TP': 0,\n     'n_pred': 0,\n     'n_ref': 0}},\n   'prediction_file': '/home/ander/PycharmProjects/nnunet-ms-segmentation/nnUNet_test_results/Dataset100_MSSEG/nnUNetTrainerEarlyStopping__nnUNetPlans__3d_fullres/REHEM_84_01.nii.gz',\n   'reference_file': '/home/ander/PycharmProjects/nnunet-ms-segmentation/data/nnUNet_raw_data/Dataset100_MSSEG/labelsTs/REHEM_84_01.nii.gz'},\n  {'metrics': {1: {'Dice': 0.7601422696454374,\n     'FN': 2610,\n     'FP': 1706,\n     'IoU': 0.6130883012102196,\n     'TN': 7209877,\n     'TP': 6839,\n     'n_pred': 8545,\n     'n_ref': 9449},\n    2: {'Dice': nan,\n     'FN': 0,\n     'FP': 0,\n     'IoU': nan,\n     'TN': 7221032,\n     'TP': 0,\n     'n_pred': 0,\n     'n_ref': 0}},\n   'prediction_file': '/home/ander/PycharmProjects/nnunet-ms-segmentation/nnUNet_test_results/Dataset100_MSSEG/nnUNetTrainerEarlyStopping__nnUNetPlans__3d_fullres/REHEM_87_01.nii.gz',\n   'reference_file': '/home/ander/PycharmProjects/nnunet-ms-segmentation/data/nnUNet_raw_data/Dataset100_MSSEG/labelsTs/REHEM_87_01.nii.gz'},\n  {'metrics': {1: {'Dice': 0.8658020862700874,\n     'FN': 2342,\n     'FP': 3370,\n     'IoU': 0.7633606761123539,\n     'TN': 7196894,\n     'TP': 18426,\n     'n_pred': 21796,\n     'n_ref': 20768},\n    2: {'Dice': nan,\n     'FN': 0,\n     'FP': 0,\n     'IoU': nan,\n     'TN': 7221032,\n     'TP': 0,\n     'n_pred': 0,\n     'n_ref': 0}},\n   'prediction_file': '/home/ander/PycharmProjects/nnunet-ms-segmentation/nnUNet_test_results/Dataset100_MSSEG/nnUNetTrainerEarlyStopping__nnUNetPlans__3d_fullres/REHEM_95_01.nii.gz',\n   'reference_file': '/home/ander/PycharmProjects/nnunet-ms-segmentation/data/nnUNet_raw_data/Dataset100_MSSEG/labelsTs/REHEM_95_01.nii.gz'},\n  {'metrics': {1: {'Dice': 0.5455390334572491,\n     'FN': 1339,\n     'FP': 617,\n     'IoU': 0.37507987220447286,\n     'TN': 7217902,\n     'TP': 1174,\n     'n_pred': 1791,\n     'n_ref': 2513},\n    2: {'Dice': nan,\n     'FN': 0,\n     'FP': 0,\n     'IoU': nan,\n     'TN': 7221032,\n     'TP': 0,\n     'n_pred': 0,\n     'n_ref': 0}},\n   'prediction_file': '/home/ander/PycharmProjects/nnunet-ms-segmentation/nnUNet_test_results/Dataset100_MSSEG/nnUNetTrainerEarlyStopping__nnUNetPlans__3d_fullres/REHEM_97_01.nii.gz',\n   'reference_file': '/home/ander/PycharmProjects/nnunet-ms-segmentation/data/nnUNet_raw_data/Dataset100_MSSEG/labelsTs/REHEM_97_01.nii.gz'}]}"
     },
     "execution_count": 9,
     "metadata": {},
     "output_type": "execute_result"
    }
   ],
   "source": [
    "all_results"
   ],
   "metadata": {
    "collapsed": false,
    "ExecuteTime": {
     "start_time": "2023-04-23T15:08:49.209715Z",
     "end_time": "2023-04-23T15:08:49.211900Z"
    }
   }
  },
  {
   "cell_type": "markdown",
   "source": [
    "## Confusion matrix:"
   ],
   "metadata": {
    "collapsed": false
   }
  },
  {
   "cell_type": "code",
   "execution_count": 10,
   "outputs": [],
   "source": [
    "import nibabel as nib\n",
    "import numpy as np\n",
    "import matplotlib.pyplot as plt\n",
    "import pandas as pd"
   ],
   "metadata": {
    "collapsed": false,
    "ExecuteTime": {
     "start_time": "2023-04-23T15:08:49.212624Z",
     "end_time": "2023-04-23T15:08:49.459064Z"
    }
   }
  },
  {
   "cell_type": "code",
   "execution_count": 11,
   "outputs": [],
   "source": [
    "test_images = os.listdir(TEST_IMAGES_DIR)\n",
    "test_ids = sorted({file_name.split(\".\")[0][:-5] for file_name in test_images})"
   ],
   "metadata": {
    "collapsed": false,
    "ExecuteTime": {
     "start_time": "2023-04-23T15:08:49.460548Z",
     "end_time": "2023-04-23T15:08:49.461668Z"
    }
   }
  },
  {
   "cell_type": "code",
   "execution_count": 12,
   "outputs": [],
   "source": [
    "def get_paths(case_id: str, basal_im: bool = False, follow_up_im: bool = False, labels: bool = False,\n",
    "              preds: bool = False):\n",
    "    ans = list()\n",
    "    if basal_im:\n",
    "        ans.append(os.path.join(TEST_IMAGES_DIR, f\"{case_id}_0000\" + TERMINATION))\n",
    "    if follow_up_im:\n",
    "        ans.append(os.path.join(TEST_IMAGES_DIR, f\"{case_id}_0001\" + TERMINATION))\n",
    "    if labels:\n",
    "        ans.append(os.path.join(TEST_LABELS_DIR, case_id + TERMINATION))\n",
    "    if preds:\n",
    "        ans.append(os.path.join(TEST_PREDICTIONS_FOLDER, case_id + TERMINATION))\n",
    "    return tuple(ans)"
   ],
   "metadata": {
    "collapsed": false,
    "ExecuteTime": {
     "start_time": "2023-04-23T15:08:49.462191Z",
     "end_time": "2023-04-23T15:08:49.467637Z"
    }
   }
  },
  {
   "cell_type": "code",
   "execution_count": 13,
   "outputs": [],
   "source": [
    "def read_images(case_id: str):\n",
    "    b_image_path, fu_image_path = get_paths(case_id=case_id, basal_im=True, follow_up_im=True)\n",
    "    b_image = nib.load(b_image_path).get_fdata()\n",
    "    fu_image = nib.load(fu_image_path).get_fdata()\n",
    "    return b_image, fu_image"
   ],
   "metadata": {
    "collapsed": false,
    "ExecuteTime": {
     "start_time": "2023-04-23T15:08:49.468005Z",
     "end_time": "2023-04-23T15:08:49.473070Z"
    }
   }
  },
  {
   "cell_type": "code",
   "execution_count": 14,
   "outputs": [],
   "source": [
    "def read_labels_and_preds(case_id: str):\n",
    "    labels_path, predictions_path = get_paths(case_id=case_id, labels=True, preds=True)\n",
    "    labels = nib.load(labels_path).get_fdata()\n",
    "    predictions = nib.load(predictions_path).get_fdata()\n",
    "    return labels, predictions"
   ],
   "metadata": {
    "collapsed": false,
    "ExecuteTime": {
     "start_time": "2023-04-23T15:08:49.473711Z",
     "end_time": "2023-04-23T15:08:49.479161Z"
    }
   }
  },
  {
   "cell_type": "code",
   "execution_count": 15,
   "outputs": [],
   "source": [
    "from sklearn.metrics import ConfusionMatrixDisplay"
   ],
   "metadata": {
    "collapsed": false,
    "ExecuteTime": {
     "start_time": "2023-04-23T15:08:49.479277Z",
     "end_time": "2023-04-23T15:08:49.602735Z"
    }
   }
  },
  {
   "cell_type": "code",
   "execution_count": 16,
   "outputs": [],
   "source": [
    "all_labels = list()\n",
    "all_preds = list()\n",
    "for case in test_ids:\n",
    "    sample_labels, sample_predictions = read_labels_and_preds(case_id=case)\n",
    "    all_labels.append(sample_labels)\n",
    "    all_preds.append(sample_predictions)\n",
    "all_flattened_labels = np.concatenate([labels.flatten() for labels in all_labels])\n",
    "all_flattened_preds = np.concatenate([preds.flatten() for preds in all_preds])"
   ],
   "metadata": {
    "collapsed": false,
    "ExecuteTime": {
     "start_time": "2023-04-23T15:08:49.604169Z",
     "end_time": "2023-04-23T15:08:53.734444Z"
    }
   }
  },
  {
   "cell_type": "code",
   "execution_count": 17,
   "outputs": [
    {
     "data": {
      "text/plain": "<sklearn.metrics._plot.confusion_matrix.ConfusionMatrixDisplay at 0x7fa8167dbdc0>"
     },
     "execution_count": 17,
     "metadata": {},
     "output_type": "execute_result"
    },
    {
     "data": {
      "text/plain": "<Figure size 640x480 with 2 Axes>",
      "image/png": "[encoded data removed]"
     },
     "metadata": {},
     "output_type": "display_data"
    }
   ],
   "source": [
    "ConfusionMatrixDisplay.from_predictions(y_true=all_flattened_labels, y_pred=all_flattened_preds)"
   ],
   "metadata": {
    "collapsed": false,
    "ExecuteTime": {
     "start_time": "2023-04-23T15:08:53.735048Z",
     "end_time": "2023-04-23T15:10:17.672427Z"
    }
   }
  },
  {
   "cell_type": "markdown",
   "source": [
    "## Analysing specific cases:"
   ],
   "metadata": {
    "collapsed": false
   }
  },
  {
   "cell_type": "code",
   "execution_count": 18,
   "outputs": [],
   "source": [
    "sample_case_num_idx = 7  # or sample from range(len(test_ids))\n",
    "sample_case_id = test_ids[sample_case_num_idx]\n",
    "sample_labels_path, sample_predictions_path = get_paths(case_id=sample_case_id, labels=True, preds=True)"
   ],
   "metadata": {
    "collapsed": false,
    "ExecuteTime": {
     "start_time": "2023-04-23T15:10:17.672694Z",
     "end_time": "2023-04-23T15:10:17.674073Z"
    }
   }
  },
  {
   "cell_type": "code",
   "execution_count": 23,
   "outputs": [],
   "source": [
    "from nnunetv2.imageio.simpleitk_reader_writer import SimpleITKIO\n",
    "from nnunetv2.evaluation.evaluate_predictions import compute_metrics\n",
    "\n",
    "results = compute_metrics(\n",
    "    reference_file=sample_labels_path,\n",
    "    prediction_file=sample_predictions_path,\n",
    "    image_reader_writer=SimpleITKIO(),\n",
    "    labels_or_regions=[1, 2]\n",
    ")"
   ],
   "metadata": {
    "collapsed": false,
    "ExecuteTime": {
     "start_time": "2023-04-23T15:11:20.219172Z",
     "end_time": "2023-04-23T15:11:20.282951Z"
    }
   }
  },
  {
   "cell_type": "code",
   "execution_count": 24,
   "outputs": [
    {
     "data": {
      "text/plain": "{'reference_file': '/home/ander/PycharmProjects/nnunet-ms-segmentation/data/nnUNet_raw_data/Dataset100_MSSEG/labelsTs/FIS_039_01.nii.gz',\n 'prediction_file': '/home/ander/PycharmProjects/nnunet-ms-segmentation/nnUNet_test_results/Dataset100_MSSEG/nnUNetTrainerEarlyStopping__nnUNetPlans__3d_fullres/FIS_039_01.nii.gz',\n 'metrics': {1: {'Dice': 0.8272707738588575,\n   'IoU': 0.7054235158622134,\n   'FP': 6439,\n   'TP': 40425,\n   'FN': 10442,\n   'TN': 7163726,\n   'n_pred': 46864,\n   'n_ref': 50867},\n  2: {'Dice': 0.4063745019920319,\n   'IoU': 0.255,\n   'FP': 33,\n   'TP': 51,\n   'FN': 116,\n   'TN': 7220832,\n   'n_pred': 84,\n   'n_ref': 167}}}"
     },
     "execution_count": 24,
     "metadata": {},
     "output_type": "execute_result"
    }
   ],
   "source": [
    "results"
   ],
   "metadata": {
    "collapsed": false,
    "ExecuteTime": {
     "start_time": "2023-04-23T15:11:20.760712Z",
     "end_time": "2023-04-23T15:11:20.767379Z"
    }
   }
  },
  {
   "cell_type": "code",
   "execution_count": 21,
   "outputs": [],
   "source": [
    "sample_b_image, sample_fu_image = read_images(case_id=sample_case_id)\n",
    "sample_labels, sample_predictions = read_labels_and_preds(case_id=sample_case_id)"
   ],
   "metadata": {
    "collapsed": false,
    "ExecuteTime": {
     "start_time": "2023-04-23T15:10:17.760384Z",
     "end_time": "2023-04-23T15:10:17.975397Z"
    }
   }
  },
  {
   "cell_type": "code",
   "execution_count": 22,
   "outputs": [
    {
     "data": {
      "text/plain": "<sklearn.metrics._plot.confusion_matrix.ConfusionMatrixDisplay at 0x7fa5c7273970>"
     },
     "execution_count": 22,
     "metadata": {},
     "output_type": "execute_result"
    },
    {
     "data": {
      "text/plain": "<Figure size 640x480 with 2 Axes>",
      "image/png": "[encoded data removed]"
     },
     "metadata": {},
     "output_type": "display_data"
    }
   ],
   "source": [
    "ConfusionMatrixDisplay.from_predictions(y_true=sample_labels.flatten(), y_pred=sample_predictions.flatten())"
   ],
   "metadata": {
    "collapsed": false,
    "ExecuteTime": {
     "start_time": "2023-04-23T15:10:18.017866Z",
     "end_time": "2023-04-23T15:10:20.223184Z"
    }
   }
  }
 ],
 "metadata": {
  "kernelspec": {
   "display_name": "Python 3",
   "language": "python",
   "name": "python3"
  },
  "language_info": {
   "codemirror_mode": {
    "name": "ipython",
    "version": 2
   },
   "file_extension": ".py",
   "mimetype": "text/x-python",
   "name": "python",
   "nbconvert_exporter": "python",
   "pygments_lexer": "ipython2",
   "version": "2.7.6"
  }
 },
 "nbformat": 4,
 "nbformat_minor": 0
}
